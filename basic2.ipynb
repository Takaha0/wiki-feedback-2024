{
  "cells": [
    {
      "cell_type": "code",
      "execution_count": null,
      "metadata": {
        "id": "DkY9avHxn756"
      },
      "outputs": [],
      "source": [
        "# このコードは変更しない\n",
        "!pip install -U ccml2021\n",
        "# You must restart the runtimeとメッセージが出たら、ランタイムを再起動する"
      ]
    },
    {
      "cell_type": "code",
      "source": [
        "from google.colab import drive\n",
        "drive.mount('/content/drive')"
      ],
      "metadata": {
        "colab": {
          "base_uri": "https://localhost:8080/"
        },
        "id": "TD3lHXPYtu-4",
        "outputId": "25f2457e-08ca-4a42-af9c-22ea93817a8f"
      },
      "execution_count": 1,
      "outputs": [
        {
          "output_type": "stream",
          "name": "stdout",
          "text": [
            "Mounted at /content/drive\n"
          ]
        }
      ]
    },
    {
      "cell_type": "code",
      "execution_count": null,
      "metadata": {
        "id": "IcOV3uHioC7h"
      },
      "outputs": [],
      "source": [
        "#（ここからコードを書いていく）"
      ]
    },
    {
      "cell_type": "code",
      "execution_count": null,
      "metadata": {
        "id": "9FGtRFVRqNLu"
      },
      "outputs": [],
      "source": []
    },
    {
      "cell_type": "markdown",
      "metadata": {
        "id": "ZHVa_yRcpkZW"
      },
      "source": [
        "## 考察記入欄\n",
        "\n",
        "（このセル内に考察を書く）"
      ]
    },
    {
      "cell_type": "markdown",
      "metadata": {
        "id": "unAKDAZhpnuX"
      },
      "source": [
        "## 感想記入欄\n",
        "\n",
        "（このセル内に感想を書く）"
      ]
    },
    {
      "cell_type": "markdown",
      "metadata": {
        "id": "uSqLYKJgp5Sz"
      },
      "source": [
        "## 変数名、ファイル名の最終チェック\n",
        "\n",
        "以下のコードは変更しないでください。\n",
        "\n",
        "実行することで、上のコードが想定通りの変数名、ファイル名を使用しているかをチェックできます。"
      ]
    },
    {
      "cell_type": "code",
      "execution_count": null,
      "metadata": {
        "id": "D9-ODqWboDWp"
      },
      "outputs": [],
      "source": [
        "from ccml2021.checker import basic2\n",
        "\n",
        "basic2(globals())"
      ]
    }
  ],
  "metadata": {
    "colab": {
      "provenance": []
    },
    "kernelspec": {
      "display_name": "Python 3",
      "name": "python3"
    },
    "language_info": {
      "name": "python"
    }
  },
  "nbformat": 4,
  "nbformat_minor": 0
}